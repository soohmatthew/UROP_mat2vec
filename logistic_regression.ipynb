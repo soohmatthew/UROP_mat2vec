{
 "cells": [
  {
   "cell_type": "markdown",
   "metadata": {},
   "source": [
    "# Import Data"
   ]
  },
  {
   "cell_type": "code",
   "execution_count": 21,
   "metadata": {},
   "outputs": [],
   "source": [
    "import json\n",
    "import ast\n",
    "import sys\n",
    "import os\n",
    "import pandas as pd\n",
    "import nltk\n",
    "import re\n",
    "\n",
    "if not os.getcwd().endswith('UROP_mat2vec'):\n",
    "    print('Please ensure that you are in the proper working directory')\n",
    "\n",
    "from utils.process import MaterialsTextProcessor\n",
    "text_processor = MaterialsTextProcessor()\n",
    "\n",
    "with open('data/relevant_articles_material_science.json') as json_file:\n",
    "    relevant = json.load(json_file)\n",
    "\n",
    "relevant_articles = ast.literal_eval(relevant)\n",
    "relevant_df = pd.DataFrame({'abstracts' : relevant_articles})\n",
    "\n",
    "with open('data/irrelevant_articles.json') as json_file:\n",
    "    irrelevant = json.load(json_file)\n",
    "    \n",
    "irrelevant_articles = [i for i in irrelevant if i != '']\n",
    "\n",
    "for fname in os.listdir('data/'):\n",
    "    if 'irrelevant_articles_' in fname:\n",
    "        with open('data/' + fname) as json_file:\n",
    "            irrelevant_articles += ast.literal_eval(json.load(json_file))\n",
    "            \n",
    "irrelevant_df = pd.DataFrame({'abstracts' : irrelevant_articles})"
   ]
  },
  {
   "cell_type": "markdown",
   "metadata": {},
   "source": [
    "# Process Abstracts\n",
    "\n",
    "1. Remove foreign language\n",
    "2. Remove common words like \"Abstracts\"\n"
   ]
  },
  {
   "cell_type": "code",
   "execution_count": 22,
   "metadata": {},
   "outputs": [],
   "source": [
    "words = set(nltk.corpus.words.words())\n",
    "\n",
    "def language_checker(string):\n",
    "    remove_foreign = \" \".join(w for w in nltk.wordpunct_tokenize(string) if w.lower() in words or not w.isalpha())\n",
    "    # If more than 30% of words are cut, remove article, else keep\n",
    "    if len(remove_foreign)/len(string) <= 0.5:\n",
    "\n",
    "        return \"\"\n",
    "    else:\n",
    "        return string\n",
    "    \n",
    "def remove_weblinks(string):\n",
    "    return re.sub('https?://[A-Za-z0-9./]+','', string)\n",
    "    \n",
    "relevant_df = relevant_df[relevant_df['abstracts'].apply(language_checker) != \"\"]\n",
    "irrelevant_df = irrelevant_df[irrelevant_df['abstracts'].apply(language_checker) != \"\"]\n",
    "relevant_df = relevant_df[relevant_df['abstracts'].apply(remove_weblinks) != \"\"]\n",
    "irrelevant_df = irrelevant_df[irrelevant_df['abstracts'].apply(remove_weblinks) != \"\"]\n",
    "irrelevant_df['abstracts'] = irrelevant_df['abstracts'].apply(lambda x: x.replace(\"Background\", \"\"))\n",
    "irrelevant_df['abstracts'] = irrelevant_df['abstracts'].apply(lambda x: x.replace(\"Abstract\", \"\"))\n",
    "relevant_df['abstracts'] = relevant_df['abstracts'].apply(lambda x: x.replace(\"Background\", \"\"))\n",
    "relevant_df['abstracts'] = relevant_df['abstracts'].apply(lambda x: x.replace(\"Abstract\", \"\"))\n",
    "relevant_df['label'] = 1\n",
    "irrelevant_df['label'] = 0\n",
    "df = pd.concat([relevant_df, irrelevant_df])"
   ]
  },
  {
   "cell_type": "markdown",
   "metadata": {},
   "source": [
    "# Train Test split"
   ]
  },
  {
   "cell_type": "code",
   "execution_count": 23,
   "metadata": {},
   "outputs": [],
   "source": [
    "from sklearn.model_selection import train_test_split\n",
    "\n",
    "x = df.abstracts\n",
    "y = df.label\n",
    "\n",
    "SEED = 2000\n",
    "x_train, x_test, y_train, y_test = train_test_split(x, y, test_size=.3, random_state=SEED)"
   ]
  },
  {
   "cell_type": "code",
   "execution_count": 24,
   "metadata": {},
   "outputs": [
    {
     "name": "stdout",
     "output_type": "stream",
     "text": [
      "(714,)\n",
      "(3206,)\n",
      "(304,)\n",
      "(1376,)\n"
     ]
    }
   ],
   "source": [
    "print(y_train[y_train == 1].shape)\n",
    "print(y_train[y_train == 0].shape)\n",
    "\n",
    "print(y_test[y_test == 1].shape)\n",
    "print(y_test[y_test == 0].shape)"
   ]
  },
  {
   "cell_type": "markdown",
   "metadata": {},
   "source": [
    "# Pipeline: TF-IDF -> Classifier\n",
    "\n",
    "## Trying out different classifiers to get the best results"
   ]
  },
  {
   "cell_type": "code",
   "execution_count": 25,
   "metadata": {},
   "outputs": [
    {
     "name": "stderr",
     "output_type": "stream",
     "text": [
      "C:\\Users\\Dell\\Anaconda3\\lib\\site-packages\\sklearn\\preprocessing\\label.py:151: DeprecationWarning: The truth value of an empty array is ambiguous. Returning False, but in future this will result in an error. Use `array.size > 0` to check that an array is not empty.\n",
      "  if diff:\n"
     ]
    },
    {
     "data": {
      "text/plain": [
       "[('Logistic Regression',\n",
       "  0.9851190476190477,\n",
       "  0.9572649572649574,\n",
       "  3.97100567817688),\n",
       " ('Linear SVC', 0.9952380952380953, 0.9868421052631579, 4.33204197883606),\n",
       " ('LinearSVC with L1-based feature selection',\n",
       "  0.9922619047619048,\n",
       "  0.9787928221859706,\n",
       "  4.464842796325684),\n",
       " ('Multinomial NB', 0.8380952380952381, 0.6902050113895215, 5.152879476547241),\n",
       " ('Bernoulli NB', 0.6255952380952381, 0.49151172190784154, 4.261931896209717),\n",
       " ('Ridge Classifier',\n",
       "  0.993452380952381,\n",
       "  0.9818780889621087,\n",
       "  3.892655849456787),\n",
       " ('AdaBoost', 0.9875, 0.9657422512234911, 7.192623615264893),\n",
       " ('Nearest Centroid',\n",
       "  0.9607142857142857,\n",
       "  0.9011976047904192,\n",
       "  3.5465147495269775),\n",
       " ('XGBoost', 0.9827380952380952, 0.9528455284552845, 15.359398126602173)]"
      ]
     },
     "execution_count": 25,
     "metadata": {},
     "output_type": "execute_result"
    }
   ],
   "source": [
    "from sklearn.svm import LinearSVC, SVC\n",
    "from sklearn.ensemble import AdaBoostClassifier\n",
    "from sklearn.naive_bayes import MultinomialNB, BernoulliNB\n",
    "from sklearn.linear_model import RidgeClassifier, LogisticRegression\n",
    "from sklearn.neighbors import NearestCentroid\n",
    "from sklearn.feature_selection import SelectFromModel\n",
    "from sklearn.pipeline import Pipeline\n",
    "from time import time\n",
    "from sklearn.metrics import accuracy_score, f1_score\n",
    "from sklearn.feature_extraction.text import TfidfVectorizer\n",
    "import numpy as np\n",
    "from xgboost import XGBClassifier\n",
    "\n",
    "names = [\"Logistic Regression\", \"Linear SVC\", \"LinearSVC with L1-based feature selection\", \"Multinomial NB\", \n",
    "         \"Bernoulli NB\", \"Ridge Classifier\", \"AdaBoost\", \"Nearest Centroid\", \"XGBoost\"]\n",
    "classifiers = [LogisticRegression(),\n",
    "    LinearSVC(),\n",
    "    Pipeline([('feature_selection', SelectFromModel(LinearSVC(penalty=\"l1\", dual=False))), ('classification', LinearSVC(penalty=\"l2\"))]),\n",
    "    MultinomialNB(),\n",
    "    BernoulliNB(),\n",
    "    RidgeClassifier(),\n",
    "    AdaBoostClassifier(),\n",
    "    NearestCentroid(), \n",
    "    XGBClassifier(random_state=1,learning_rate=0.01)]\n",
    "\n",
    "zipped_clf = zip(names,classifiers)\n",
    "\n",
    "tvec = TfidfVectorizer()\n",
    "def accuracy_summary(pipeline, x_train, y_train, x_test, y_test):\n",
    "    if len(x_test[y_test == 0]) / (len(x_test)*1.) > 0.5:\n",
    "        null_accuracy = len(x_test[y_test == 0]) / (len(x_test)*1.)\n",
    "    else:\n",
    "        null_accuracy = 1. - (len(x_test[y_test == 0]) / (len(x_test)*1.))\n",
    "    t0 = time()\n",
    "    model = pipeline.fit(x_train, y_train)\n",
    "    y_pred = model.predict(x_test)\n",
    "    train_test_time = time() - t0\n",
    "    accuracy = accuracy_score(y_test, y_pred)\n",
    "    f1 = f1_score(y_test, y_pred, labels = np.unique(y_pred))\n",
    "    return accuracy, f1, train_test_time\n",
    "\n",
    "def classifier_comparator(vectorizer=tvec, n_features=10000, stop_words=None, ngram_range=(1, 1), classifier=zipped_clf):\n",
    "    result = []\n",
    "    vectorizer.set_params(stop_words=stop_words, max_features=n_features, ngram_range=ngram_range)\n",
    "    for n,c in classifier:\n",
    "        checker_pipeline = Pipeline([('vectorizer', vectorizer),\n",
    "                                     ('classifier', c)])\n",
    "        clf_accuracy, f1_score, tt_time = accuracy_summary(checker_pipeline, x_train, y_train, x_test, y_test)\n",
    "        result.append((n, clf_accuracy, f1_score, tt_time))\n",
    "    return result\n",
    "\n",
    "trigram_result = classifier_comparator(n_features=20000 ,ngram_range=(1,3))\n",
    "\n",
    "trigram_result"
   ]
  },
  {
   "cell_type": "markdown",
   "metadata": {},
   "source": [
    "# Pipeline: TF-IDF -> Logistic Regression"
   ]
  },
  {
   "cell_type": "code",
   "execution_count": 26,
   "metadata": {},
   "outputs": [
    {
     "data": {
      "text/plain": [
       "0.9486301369863014"
      ]
     },
     "execution_count": 26,
     "metadata": {},
     "output_type": "execute_result"
    }
   ],
   "source": [
    "pipeline = Pipeline([('vectorizer', TfidfVectorizer()), ('classifier', LogisticRegression())])\n",
    "model = pipeline.fit(x_train, y_train)\n",
    "y_pred = model.predict(x_test)\n",
    "accuracy = accuracy_score(y_test, y_pred)\n",
    "f1 = f1_score(y_test, y_pred)\n",
    "f1"
   ]
  }
 ],
 "metadata": {
  "kernelspec": {
   "display_name": "Python 3",
   "language": "python",
   "name": "python3"
  },
  "language_info": {
   "codemirror_mode": {
    "name": "ipython",
    "version": 3
   },
   "file_extension": ".py",
   "mimetype": "text/x-python",
   "name": "python",
   "nbconvert_exporter": "python",
   "pygments_lexer": "ipython3",
   "version": "3.6.5"
  }
 },
 "nbformat": 4,
 "nbformat_minor": 2
}
